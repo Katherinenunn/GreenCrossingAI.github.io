{
 "cells": [
  {
   "cell_type": "markdown",
   "id": "24f7d466-eaf0-48d4-85d7-32d2d9126af1",
   "metadata": {},
   "source": [
    "# This notebook is to take apart video feed and turn each frame into an image that then can be run in MegaDetector."
   ]
  },
  {
   "cell_type": "code",
   "execution_count": 2,
   "id": "13df310c-1d96-4ca9-afd3-fa431bd36d92",
   "metadata": {},
   "outputs": [
    {
     "name": "stdout",
     "output_type": "stream",
     "text": [
      "Requirement already satisfied: opencv-python-headless in c:\\users\\public\\documents\\cameratraps-detector\\lib\\site-packages (4.10.0.82)\n",
      "Requirement already satisfied: numpy>=1.17.0 in c:\\users\\public\\documents\\cameratraps-detector\\lib\\site-packages (from opencv-python-headless) (1.23.5)\n"
     ]
    }
   ],
   "source": [
    "!pip install opencv-python-headless \n",
    "\n",
    "# Keep this just incase an issue happens.\n"
   ]
  },
  {
   "cell_type": "code",
   "execution_count": 3,
   "id": "edc5ba85-5b34-4b53-aac7-79628167448a",
   "metadata": {},
   "outputs": [
    {
     "data": {
      "text/plain": [
       "''"
      ]
     },
     "execution_count": 3,
     "metadata": {},
     "output_type": "execute_result"
    }
   ],
   "source": [
    "import os\n",
    "import cv2\n",
    "import json\n",
    "from megadetector.utils import path_utils\n",
    "from megadetector.detection import video_utils\n",
    "from megadetector.visualization import visualization_utils as vis_utils\n",
    "\n",
    "# Add the directory containing video_utils.py to the system path\n",
    "import sys\n",
    "sys.path.append(\"C:/Users/Public/Documents/MegaDetector_App/MegaDetector/megadetector/detection\")\n",
    "\n",
    "from video_utils import video_folder_to_frames, frames_to_video, get_video_fs, frame_results_to_video_results\n",
    "import tkinter as tk\n",
    "from tkinter import filedialog as fd \n",
    "\n",
    "# Create a hidden root window\n",
    "root = tk.Tk()\n",
    "root.withdraw()\n",
    "root.attributes('-topmost', True)  # Ensure it stays on top\n",
    "# Configure paths\n",
    "# input_folder = r\"C:/Users/Public/Documents/Data/video_data/\"\n",
    "# output_folder_base = r\"C:/Users/Public/Documents/Data/video_data/frames/\"\n",
    "# detected_frame_folder_base = r\"C:/Users/Public/Documents/Data/video_data_detected/\"\n",
    "# rendered_videos_folder_base = r\"C:/Users/Public/Documents/Data/video_data_rendered/\"\n",
    "# json_path = r\"C:/Users/Public/Documents/jsons/tests.json\"\n",
    "\n",
    "\n"
   ]
  },
  {
   "cell_type": "code",
   "execution_count": 4,
   "id": "aafcddd9-000b-444a-bd1b-684d990105e4",
   "metadata": {},
   "outputs": [],
   "source": [
    "#The following 5 cells each run the same function, Ask directory, they are split up into seperate cells to avoid confusion when choosing folders\n",
    "# the Ask open file name function allows you to manually select the folder that you are using each time.\n",
    "#the print function will print the folder name, if it isnt the desired folder simply run the cell again the chose a different one"
   ]
  },
  {
   "cell_type": "code",
   "execution_count": 15,
   "id": "cb0f767d-5331-4b66-af0b-60f159ad269c",
   "metadata": {},
   "outputs": [
    {
     "name": "stdout",
     "output_type": "stream",
     "text": [
      "Selected folder: C:/Users/Public/WLF_Cam_Data/7July2025/BG_SW_Arm_2_7July2025\n"
     ]
    }
   ],
   "source": [
    "input_folder = fd.askdirectory()\n",
    "print(\"Selected folder:\", input_folder)"
   ]
  },
  {
   "cell_type": "code",
   "execution_count": 35,
   "id": "c80c7226-66c8-4dcb-97f5-f7878179374f",
   "metadata": {},
   "outputs": [
    {
     "name": "stdout",
     "output_type": "stream",
     "text": [
      "Selected folder: C:/Users/Public/WLF_Cam_Data/7July2025/Proccessed_Frames\n"
     ]
    }
   ],
   "source": [
    "output_folder_base = fd.askdirectory() # change name to frame folder\n",
    "print(\"Selected folder:\",output_folder_base)"
   ]
  },
  {
   "cell_type": "code",
   "execution_count": 19,
   "id": "ac482974-5a94-437d-8307-c09e48da5f76",
   "metadata": {},
   "outputs": [
    {
     "name": "stdout",
     "output_type": "stream",
     "text": [
      "Selected folder: C:/Users/Public/WLF_Cam_Data/7July2025/BG_SW_Arm_2_7July2025/DCIM/frame_folder_base\n"
     ]
    }
   ],
   "source": [
    "detected_frame_folder_base = fd.askdirectory() # detections folder change name\n",
    "print(\"Selected folder:\", detected_frame_folder_base)"
   ]
  },
  {
   "cell_type": "code",
   "execution_count": 20,
   "id": "98b264d6-0e71-4eaf-be56-cef4a351a3ca",
   "metadata": {},
   "outputs": [
    {
     "name": "stdout",
     "output_type": "stream",
     "text": [
      "Selected folder: C:/Users/Public/WLF_Cam_Data/7July2025/BG_SW_Arm_2_7July2025/DCIM/rendered_videos_folder_base\n"
     ]
    }
   ],
   "source": [
    "rendered_videos_folder_base = fd.askdirectory() # rename \n",
    "print(\"Selected folder:\", rendered_videos_folder_base)"
   ]
  },
  {
   "cell_type": "code",
   "execution_count": 21,
   "id": "8d5863de-ce06-4b6b-a387-68db63b1c68a",
   "metadata": {},
   "outputs": [
    {
     "name": "stdout",
     "output_type": "stream",
     "text": [
      "Selected folder: C:/Users/Public/WLF_Cam_Data/7July2025/BG_SW_Arm_2_7July2025/DCIM\n"
     ]
    }
   ],
   "source": [
    "json_path = fd.askdirectory()\n",
    "print(\"Selected folder:\", json_path)"
   ]
  },
  {
   "cell_type": "code",
   "execution_count": 36,
   "id": "951a6f6d-045e-4d55-b95e-6f3e00f3cdc1",
   "metadata": {},
   "outputs": [],
   "source": [
    "# Ensure output directories exist\n",
    "os.makedirs(detected_frame_folder_base, exist_ok=True)\n",
    "os.makedirs(rendered_videos_folder_base, exist_ok=True)"
   ]
  },
  {
   "cell_type": "code",
   "execution_count": 37,
   "id": "933598e3-bc43-40b8-a7df-223d8a7b9133",
   "metadata": {},
   "outputs": [],
   "source": [
    "#From Don Morris Mega detector examples,Managing a local mega detector video batch Notebook\n",
    "quality = 90 #controls image output quality, lower number smaller files higher number clearer images (out of 100)\n",
    "max_width = 1600 #controls Frame size, resizes to a max width, avoids huge image files\n",
    "recursive = True #looks through sub folders,if changes to false only the outer most folders will be processed (must be true to do folders within folders)\n",
    "overwrite = True #Replaces existing frames (duplicates), if changed to false and duplicates exist extraction might fail or skip (DO NOT TOUCH)\n",
    "parallelization_uses_threads = True #Speeds up the processing\n",
    "n_workers = 8 #Controls how many threads are used\n",
    "\n",
    "# Sample every Nth frame.  To specify a sampling rate in seconds, use a negative\n",
    "# value.  For example:\n",
    "#\n",
    "# * Setting every_n_frames to -2.0 yields a frame rate of 0.5 fps\n",
    "# * Setting every_n_frames to -0.5 yields a frame rate of 2.0 fps\n",
    "#\n",
    "every_n_frames = 10 #Controls how often a frame is extracted, (every 10 frames), without this too few or too many frames may be extracted (DO NOT DELETE)"
   ]
  },
  {
   "cell_type": "code",
   "execution_count": 38,
   "id": "b5bd317a-1a39-4b7b-b03f-4334896de096",
   "metadata": {},
   "outputs": [
    {
     "name": "stdout",
     "output_type": "stream",
     "text": [
      "Found 116 videos in folder C:/Users/Public/WLF_Cam_Data/7July2025/BG_SW_Arm_2_7July2025\n",
      "Starting a worker pool with 8 threads\n"
     ]
    },
    {
     "name": "stderr",
     "output_type": "stream",
     "text": [
      "100%|████████████████████████████████████████████████████████████████████████████████| 116/116 [00:31<00:00,  3.67it/s]\n"
     ]
    }
   ],
   "source": [
    "# Split videos into frames\n",
    "# Ensure folders exist\n",
    "assert os.path.isdir(input_folder)\n",
    "os.makedirs(output_folder_base, exist_ok=True)\n",
    "\n",
    "# Frame extraction\n",
    "frame_filenames_by_video, fs_by_video, video_filenames = \\\n",
    "    video_folder_to_frames(\n",
    "        input_folder=input_folder,\n",
    "        output_folder_base=output_folder_base,\n",
    "        recursive=recursive,\n",
    "        overwrite=overwrite,\n",
    "        n_threads=n_workers,\n",
    "        every_n_frames=every_n_frames,\n",
    "        parallelization_uses_threads=parallelization_uses_threads,\n",
    "        quality=quality,\n",
    "        max_width=max_width,\n",
    "        #allow_empty_videos=True\n",
    "    )"
   ]
  },
  {
   "cell_type": "code",
   "execution_count": 39,
   "id": "a4fdd161-6d86-44cc-a683-c73fd804133a",
   "metadata": {},
   "outputs": [],
   "source": [
    "frame_folder_base = output_folder_base"
   ]
  },
  {
   "cell_type": "code",
   "execution_count": 40,
   "id": "41a907bf-1afe-48d6-972d-b8d74af75095",
   "metadata": {},
   "outputs": [
    {
     "name": "stdout",
     "output_type": "stream",
     "text": [
      "Enumerated 3571 total frames\n",
      "Found 116 folders for 3571 files\n"
     ]
    }
   ],
   "source": [
    "# Each leaf-node folder *should* correspond to a video; we're going to verify that below.\n",
    "\n",
    "from collections import defaultdict\n",
    "\n",
    "frame_files = path_utils.find_images(frame_folder_base,recursive=True)\n",
    "frame_files = [s.replace('\\\\','/') for s in frame_files]\n",
    "print('Enumerated {} total frames'.format(len(frame_files)))\n",
    "\n",
    "# Find unique (relative) folders\n",
    "folder_to_frame_files = defaultdict(list)\n",
    "\n",
    "# fn = frame_files[0]\n",
    "for fn in frame_files:\n",
    "    folder_name = os.path.dirname(fn)\n",
    "    folder_name = os.path.relpath(folder_name,frame_folder_base)\n",
    "    folder_to_frame_files[folder_name].append(fn)\n",
    "\n",
    "print('Found {} folders for {} files'.format(len(folder_to_frame_files),len(frame_files)))"
   ]
  },
  {
   "cell_type": "code",
   "execution_count": 41,
   "id": "1282d512-ee9e-4418-977a-790f402a1228",
   "metadata": {},
   "outputs": [
    {
     "name": "stdout",
     "output_type": "stream",
     "text": [
      "Input folder contains 116 videos\n"
     ]
    }
   ],
   "source": [
    "video_filenames = video_utils.find_videos(input_folder,recursive=True)\n",
    "video_filenames = [os.path.relpath(fn,input_folder) for fn in video_filenames]\n",
    "video_filenames = [fn.replace('\\\\','/') for fn in video_filenames]\n",
    "print('Input folder contains {} videos'.format(len(video_filenames)))"
   ]
  },
  {
   "cell_type": "code",
   "execution_count": 42,
   "id": "0a4b7488-aa0a-4f9b-9f95-d359db671cf0",
   "metadata": {},
   "outputs": [
    {
     "name": "stdout",
     "output_type": "stream",
     "text": [
      "116 of 116 folders are missing frames entirely\n"
     ]
    }
   ],
   "source": []
  },
  {
   "cell_type": "code",
   "execution_count": 55,
   "id": "eabf532f-8816-4013-8da0-eb9ccf4f5250",
   "metadata": {},
   "outputs": [
    {
     "name": "stdout",
     "output_type": "stream",
     "text": [
      "Downloading model MDV5A\n",
      "Bypassing download of already-downloaded file md_v5a.0.0.pt\n",
      "307 image files found in the input directory\n",
      "The checkpoint file will be written to C:/Users/Public/Documents/jsons/videos_for_MD\\md_checkpoint_20250312175206.json\n",
      "PyTorch reports 1 available CUDA devices\n",
      "GPU available: True\n",
      "Imported YOLOv5 as utils.*\n",
      "Using PyTorch version 2.2.2\n",
      "Sending model to GPU\n",
      "Loaded model in 3.31 seconds\n",
      "Loaded model in 3.31 seconds\n",
      "Finished inference for 307 images in 11.53 seconds (26.62 images per second)\n",
      "Output file saved at C:/Users/Public/Documents/jsons/videos_for_MD/RR_ringtail.json\n",
      "Done, thanks for MegaDetect'ing!\n"
     ]
    },
    {
     "name": "stderr",
     "output_type": "stream",
     "text": [
      "Fusing layers... \n",
      "Model summary: 574 layers, 139990096 parameters, 0 gradients, 207.9 GFLOPs\n",
      "\n",
      "  0%|          | 0/307 [00:00<?, ?it/s]\n",
      "  0%|          | 1/307 [00:00<01:07,  4.52it/s]\n",
      "  2%|1         | 6/307 [00:00<00:14, 20.84it/s]\n",
      "  4%|3         | 11/307 [00:00<00:10, 29.53it/s]\n",
      "  5%|5         | 16/307 [00:00<00:08, 33.40it/s]\n",
      "  7%|6         | 21/307 [00:00<00:07, 37.29it/s]\n",
      "  8%|8         | 26/307 [00:00<00:07, 38.22it/s]\n",
      " 10%|#         | 31/307 [00:00<00:06, 40.45it/s]\n",
      " 12%|#1        | 36/307 [00:01<00:06, 42.03it/s]\n",
      " 13%|#3        | 41/307 [00:01<00:06, 41.36it/s]\n",
      " 15%|#4        | 46/307 [00:01<00:06, 42.63it/s]\n",
      " 17%|#6        | 51/307 [00:01<00:06, 41.67it/s]\n",
      " 18%|#8        | 56/307 [00:01<00:05, 42.96it/s]\n",
      " 20%|#9        | 61/307 [00:01<00:05, 43.76it/s]\n",
      " 21%|##1       | 66/307 [00:01<00:05, 44.34it/s]\n",
      " 23%|##3       | 71/307 [00:01<00:05, 42.93it/s]\n",
      " 25%|##4       | 76/307 [00:01<00:05, 43.72it/s]\n",
      " 26%|##6       | 81/307 [00:02<00:05, 44.30it/s]\n",
      " 28%|##8       | 86/307 [00:02<00:05, 42.91it/s]\n",
      " 30%|##9       | 91/307 [00:02<00:04, 43.26it/s]\n",
      " 31%|###1      | 96/307 [00:02<00:04, 44.44it/s]\n",
      " 33%|###2      | 101/307 [00:02<00:04, 43.01it/s]\n",
      " 35%|###4      | 106/307 [00:02<00:04, 43.79it/s]\n",
      " 36%|###6      | 111/307 [00:02<00:04, 44.35it/s]\n",
      " 38%|###7      | 116/307 [00:02<00:04, 42.95it/s]\n",
      " 39%|###9      | 121/307 [00:02<00:04, 43.74it/s]\n",
      " 41%|####1     | 126/307 [00:03<00:04, 44.32it/s]\n",
      " 43%|####2     | 131/307 [00:03<00:04, 42.93it/s]\n",
      " 44%|####4     | 136/307 [00:03<00:03, 43.67it/s]\n",
      " 46%|####5     | 141/307 [00:03<00:03, 44.33it/s]\n",
      " 48%|####7     | 146/307 [00:03<00:03, 42.93it/s]\n",
      " 49%|####9     | 151/307 [00:03<00:03, 43.73it/s]\n",
      " 51%|#####     | 156/307 [00:03<00:03, 44.31it/s]\n",
      " 52%|#####2    | 161/307 [00:03<00:03, 42.92it/s]\n",
      " 54%|#####4    | 166/307 [00:04<00:03, 43.72it/s]\n",
      " 56%|#####5    | 171/307 [00:04<00:03, 44.30it/s]\n",
      " 57%|#####7    | 176/307 [00:04<00:02, 44.10it/s]\n",
      " 59%|#####8    | 181/307 [00:04<00:02, 42.78it/s]\n",
      " 61%|######    | 186/307 [00:04<00:02, 44.29it/s]\n",
      " 62%|######2   | 191/307 [00:04<00:02, 42.91it/s]\n",
      " 64%|######3   | 196/307 [00:04<00:02, 43.71it/s]\n",
      " 65%|######5   | 201/307 [00:04<00:02, 44.30it/s]\n",
      " 67%|######7   | 206/307 [00:04<00:02, 42.91it/s]\n",
      " 69%|######8   | 211/307 [00:05<00:02, 43.72it/s]\n",
      " 70%|#######   | 216/307 [00:05<00:02, 44.30it/s]\n",
      " 72%|#######1  | 221/307 [00:05<00:02, 42.92it/s]\n",
      " 74%|#######3  | 226/307 [00:05<00:01, 43.07it/s]\n",
      " 75%|#######5  | 231/307 [00:05<00:01, 44.44it/s]\n",
      " 77%|#######6  | 236/307 [00:05<00:01, 44.81it/s]\n",
      " 79%|#######8  | 241/307 [00:05<00:01, 43.25it/s]\n",
      " 80%|########  | 246/307 [00:05<00:01, 43.96it/s]\n",
      " 82%|########1 | 251/307 [00:05<00:01, 44.48it/s]\n",
      " 83%|########3 | 256/307 [00:06<00:01, 44.84it/s]\n",
      " 85%|########5 | 261/307 [00:06<00:01, 43.27it/s]\n",
      " 87%|########6 | 266/307 [00:06<00:00, 43.32it/s]\n",
      " 88%|########8 | 271/307 [00:06<00:00, 44.68it/s]\n",
      " 90%|########9 | 276/307 [00:06<00:00, 43.16it/s]\n",
      " 92%|#########1| 281/307 [00:06<00:00, 43.90it/s]\n",
      " 93%|#########3| 286/307 [00:06<00:00, 44.43it/s]\n",
      " 95%|#########4| 291/307 [00:06<00:00, 44.81it/s]\n",
      " 96%|#########6| 296/307 [00:06<00:00, 43.25it/s]\n",
      " 98%|#########8| 301/307 [00:07<00:00, 43.96it/s]\n",
      "100%|#########9| 306/307 [00:07<00:00, 44.47it/s]\n",
      "100%|##########| 307/307 [00:07<00:00, 42.53it/s]\n"
     ]
    }
   ],
   "source": [
    "# 1. Run MegaDetector on frames (shell command)\n",
    "!python \"C:/Users/Public/Documents/MegaDetector_App/MegaDetector/megadetector/detection/run_detector_batch.py\" \\\n",
    "    MDV5A \"{output_folder_base}\" \"{json_path}\" --output_relative_filenames --recursive --checkpoint_frequency 1000 --quiet"
   ]
  },
  {
   "cell_type": "code",
   "execution_count": null,
   "id": "ba041f79-38e8-4f43-a6dc-e5338d4e5417",
   "metadata": {},
   "outputs": [],
   "source": [
    "# 2. Aggregate frame-level results into video-level results\n",
    "video_output_filename = json_path.replace(\".json\",\"_aggregated.json\")\n",
    "options = FrameToVideoOptions()\n",
    "options.include_all_processed_frames = True\n",
    "frame_results_to_video_results(json_path, video_output_filename, options=options)"
   ]
  },
  {
   "cell_type": "code",
   "execution_count": null,
   "id": "bd7e79ba-a54a-40da-8d07-dcdf3649888a",
   "metadata": {},
   "outputs": [],
   "source": [
    "# 3. Verify JSON filenames match expected list\n",
    "with open(video_output_filename, 'r') as f:\n",
    "    video_results = json.load(f)\n",
    "    video_filenames_set = set(video_filenames)  # <-- assumes you defined video_filenames earlier\n",
    "filenames_in_video_results_set = set([im['file'] for im in video_results['images']])\n",
    "\n",
    "for fn in filenames_in_video_results_set:\n",
    "    assert fn in video_filenames_set\n",
    "\n",
    "print(\"✅ Detection run, aggregation, and verification completed successfully.\")"
   ]
  },
  {
   "cell_type": "code",
   "execution_count": 56,
   "id": "d0100d16-d90b-4798-bc01-293c0cd7deb8",
   "metadata": {
    "scrolled": true
   },
   "outputs": [
    {
     "name": "stdout",
     "output_type": "stream",
     "text": [
      "Loading results from C:/Users/Public/Documents/jsons/videos_for_MD/RR_ringtail.json\n",
      "Converting results to dataframe\n",
      "Finished loading MegaDetector results for 307 images from C:/Users/Public/Documents/jsons/videos_for_MD/RR_ringtail.json\n",
      "Choosing default confidence threshold of 0.2 based on MD version\n",
      "Finished loading and preprocessing 307 rows from detector output, predicted 254 positives.\n",
      "Rendered 307 images (of 307) in 4.7 seconds (0.02 seconds per image)\n",
      "Finished writing html to C:/Users/Public/Videos/videos_for_MD/video_data_detected_ringtail/detections\\index.html\n"
     ]
    },
    {
     "name": "stderr",
     "output_type": "stream",
     "text": [
      "\n",
      "  0%|          | 0/307 [00:00<?, ?it/s]\n",
      "100%|##########| 307/307 [00:00<?, ?it/s]\n",
      "\n",
      "  0%|          | 0/307 [00:00<?, ?it/s]\n",
      "  2%|1         | 6/307 [00:00<00:05, 54.92it/s]\n",
      "  4%|4         | 13/307 [00:00<00:04, 60.27it/s]\n",
      "  7%|6         | 20/307 [00:00<00:04, 61.97it/s]\n",
      "  9%|9         | 28/307 [00:00<00:04, 66.38it/s]\n",
      " 11%|#1        | 35/307 [00:00<00:04, 65.53it/s]\n",
      " 14%|#3        | 42/307 [00:00<00:04, 64.92it/s]\n",
      " 16%|#6        | 50/307 [00:00<00:03, 67.46it/s]\n",
      " 19%|#8        | 57/307 [00:00<00:03, 66.42it/s]\n",
      " 21%|##        | 64/307 [00:01<00:03, 62.97it/s]\n",
      " 23%|##3       | 71/307 [00:01<00:03, 63.28it/s]\n",
      " 26%|##5       | 79/307 [00:01<00:03, 66.24it/s]\n",
      " 28%|##8       | 86/307 [00:01<00:03, 63.83it/s]\n",
      " 30%|###       | 93/307 [00:01<00:03, 64.25it/s]\n",
      " 33%|###2      | 100/307 [00:01<00:03, 64.18it/s]\n",
      " 35%|###4      | 107/307 [00:01<00:03, 64.12it/s]\n",
      " 37%|###7      | 114/307 [00:01<00:03, 64.09it/s]\n",
      " 39%|###9      | 121/307 [00:01<00:02, 64.03it/s]\n",
      " 42%|####1     | 128/307 [00:01<00:02, 63.20it/s]\n",
      " 44%|####4     | 136/307 [00:02<00:02, 66.15it/s]\n",
      " 47%|####6     | 143/307 [00:02<00:02, 62.84it/s]\n",
      " 49%|####8     | 150/307 [00:02<00:02, 63.18it/s]\n",
      " 51%|#####1    | 157/307 [00:02<00:02, 63.37it/s]\n",
      " 53%|#####3    | 164/307 [00:02<00:02, 61.02it/s]\n",
      " 56%|#####5    | 171/307 [00:02<00:02, 61.89it/s]\n",
      " 58%|#####7    | 178/307 [00:02<00:02, 62.50it/s]\n",
      " 60%|######    | 185/307 [00:02<00:01, 62.95it/s]\n",
      " 63%|######2   | 192/307 [00:03<00:01, 60.39it/s]\n",
      " 65%|######4   | 199/307 [00:03<00:01, 61.43it/s]\n",
      " 67%|######7   | 206/307 [00:03<00:01, 59.69it/s]\n",
      " 69%|######9   | 213/307 [00:03<00:01, 61.85it/s]\n",
      " 72%|#######2  | 222/307 [00:03<00:01, 67.78it/s]\n",
      " 75%|#######4  | 229/307 [00:03<00:01, 66.66it/s]\n",
      " 77%|#######7  | 237/307 [00:03<00:01, 68.58it/s]\n",
      " 80%|#######9  | 245/307 [00:03<00:00, 69.94it/s]\n",
      " 82%|########2 | 253/307 [00:03<00:00, 68.21it/s]\n",
      " 85%|########5 | 262/307 [00:04<00:00, 71.40it/s]\n",
      " 88%|########7 | 270/307 [00:04<00:00, 71.91it/s]\n",
      " 91%|######### | 278/307 [00:04<00:00, 69.28it/s]\n",
      " 93%|#########2| 285/307 [00:04<00:00, 67.76it/s]\n",
      " 95%|#########5| 293/307 [00:04<00:00, 69.33it/s]\n",
      " 98%|#########8| 301/307 [00:04<00:00, 70.45it/s]\n",
      "100%|##########| 307/307 [00:04<00:00, 65.31it/s]\n"
     ]
    }
   ],
   "source": [
    "# Post-process results\n",
    "# Run this if you want bounding boxes drawn on images\n",
    "!python \"C:/Users/Public/Documents/MegaDetector_App/MegaDetector/megadetector/postprocessing/postprocess_batch_results.py\" \\\n",
    "    \"{json_path}\" \"{detected_frame_folder_base}\" --image_base_dir \"{output_folder_base}\" --num_images_to_sample -1\n"
   ]
  },
  {
   "cell_type": "code",
   "execution_count": 57,
   "id": "5768b17b-bab5-433f-9e49-cd1283f4c00e",
   "metadata": {},
   "outputs": [
    {
     "name": "stdout",
     "output_type": "stream",
     "text": [
      "True\n",
      "True\n",
      "True\n"
     ]
    }
   ],
   "source": [
    "# Verify paths and files\n",
    "print(os.path.isfile(json_path))  # Should print True if the file exists\n",
    "print(os.path.isdir(output_folder_base))  # Should print True if the directory exists\n",
    "print(os.path.isdir(detected_frame_folder_base))  # Should print True if the directory exists\n"
   ]
  },
  {
   "cell_type": "code",
   "execution_count": 58,
   "id": "a2732087-a294-45bd-ba0d-5f7356ea669f",
   "metadata": {
    "scrolled": true
   },
   "outputs": [
    {
     "name": "stdout",
     "output_type": "stream",
     "text": [
      "Combined video created: C:/Users/Public/Videos/RR_ringtail.AVI\n"
     ]
    }
   ],
   "source": [
    "if False:\n",
    "\n",
    "    pass\n",
    "\n",
    "    #%% Render all detections to videos\n",
    "\n",
    "    from megadetector.visualization.visualize_detector_output import visualize_detector_output\n",
    "    from megadetector.utils.path_utils import insert_before_extension\n",
    "    from megadetector.detection.video_utils import frames_to_video\n",
    "\n",
    "    rendering_confidence_threshold = 0.1\n",
    "    target_fs = 100\n",
    "    fourcc = None\n",
    "\n",
    "    # Render detections to images\n",
    "    frame_rendering_output_dir = os.path.expanduser('~/tmp/rendered-frames')\n",
    "    os.makedirs(frame_rendering_output_dir,exist_ok=True)\n",
    "\n",
    "    video_rendering_output_dir = os.path.expanduser('~/tmp/rendered-videos')\n",
    "    os.makedirs(video_rendering_output_dir,exist_ok=True)\n",
    "\n",
    "    frames_json = frame_level_output_filename\n",
    "\n",
    "    detected_frame_files = visualize_detector_output(\n",
    "        detector_output_path=frames_json,\n",
    "        out_dir=frame_rendering_output_dir,\n",
    "        images_dir=frame_folder_base,\n",
    "        confidence_threshold=rendering_confidence_threshold,\n",
    "        preserve_path_structure=True,\n",
    "        output_image_width=-1)\n",
    "\n",
    "    detected_frame_files = [s.replace('\\\\','/') for s in detected_frame_files]\n",
    "\n",
    "    output_video_folder = os.path.expanduser('~/tmp/rendered-videos')\n",
    "    os.makedirs(output_video_folder,exist_ok=True)\n",
    "\n",
    "    # i_video=0; input_video_file_abs = video_filenames[i_video]\n",
    "    for i_video,input_video_file_abs in enumerate(video_filenames):\n",
    "\n",
    "        video_fs = fs_by_video[i_video]\n",
    "        rendering_fs = target_fs / every_n_frames\n",
    "\n",
    "        input_video_file_relative = os.path.relpath(input_video_file_abs,input_folder)\n",
    "        video_frame_output_folder = os.path.join(frame_rendering_output_dir,input_video_file_relative)\n",
    "        video_frame_output_folder = video_frame_output_folder.replace('\\\\','/')\n",
    "        assert os.path.isdir(video_frame_output_folder), \\\n",
    "            'Could not find frame folder for video {}'.format(input_video_file_relative)\n",
    "\n",
    "        # Find the corresponding rendered frame folder\n",
    "        video_frame_files = [fn for fn in detected_frame_files if \\\n",
    "                             fn.startswith(video_frame_output_folder)]\n",
    "        assert len(video_frame_files) > 0, 'Could not find rendered frames for video {}'.format(\n",
    "            input_video_file_relative)\n",
    "\n",
    "        # Select the output filename for the rendered video\n",
    "        if input_folder == video_rendering_output_dir:\n",
    "            video_output_file = insert_before_extension(input_video_file_abs,'annotated','_')\n",
    "        else:\n",
    "            video_output_file = os.path.join(video_rendering_output_dir,input_video_file_relative)\n",
    "\n",
    "        os.makedirs(os.path.dirname(video_output_file),exist_ok=True)\n",
    "\n",
    "        # Create the output video\n",
    "        print('Rendering detections for video {} to {} at {} fps (original video {} fps)'.format(\n",
    "            input_video_file_relative,video_output_file,rendering_fs,video_fs))\n",
    "\n",
    "        frames_to_video(video_frame_files,\n",
    "                        rendering_fs,\n",
    "                        video_output_file,\n",
    "                        codec_spec='mp4v')\n",
    "\n",
    "    # ...for each video\n",
    "\n",
    "\n",
    "    #%% Render one or more sample videos...\n",
    "\n",
    "    # ...while we still have the frames and detections around\n",
    "\n",
    "    ## Imports\n",
    "\n",
    "    from megadetector.visualization import visualize_detector_output\n",
    "    from megadetector.detection.video_utils import frames_to_video\n",
    "    from megadetector.detection.video_utils import get_video_fs\n",
    "\n",
    "\n",
    "    ## Constants and paths\n",
    "\n",
    "    confidence_threshold = 0.2\n",
    "    input_fs = 30\n",
    "\n",
    "    frame_level_output_filename = '/a/b/c/blah_detections.filtered_rde_0.150_0.850_10_1.000.json'\n",
    "    video_fn_relative = '4.10cam6/IMG_0022.MP4'\n",
    "    output_video_base = os.path.expanduser('~/tmp/video_preview')\n",
    "\n",
    "\n",
    "    ## Determine input frame rate\n",
    "\n",
    "    input_video_abs = os.path.join(input_folder,video_fn_relative)\n",
    "    assert os.path.isfile(input_video_abs)\n",
    "    input_fs = get_video_fs(input_video_abs)\n",
    "\n",
    "\n",
    "    ## Determine output frame rate\n",
    "\n",
    "    if every_n_frames > 0:\n",
    "        output_fs = input_fs / every_n_frames\n",
    "    else:\n",
    "        output_fs = (1.0/abs(every_n_frames))\n",
    "\n",
    "\n",
    "    ## Filename handling\n",
    "\n",
    "    video_fn_relative = video_fn_relative.replace('\\\\','/')\n",
    "    video_fn_flat = video_fn_relative.replace('/','#')\n",
    "    video_name = os.path.splitext(video_fn_flat)[0]\n",
    "    output_video = os.path.join(output_video_base,'{}_detections.mp4'.format(video_name))\n",
    "\n",
    "\n",
    "    rendered_detections_folder = os.path.join(output_video_base,'rendered_detections_{}'.format(video_name))\n",
    "    os.makedirs(rendered_detections_folder,exist_ok=True)\n",
    "\n",
    "\n",
    "    ## Find frames corresponding to this video\n",
    "\n",
    "    with open(frame_level_output_filename,'r') as f:\n",
    "        frame_results = json.load(f)\n",
    "\n",
    "    frame_results_this_video = []\n",
    "\n",
    "    # im = frame_results['images'][0]\n",
    "    for im in frame_results['images']:\n",
    "        if im['file'].replace('\\\\','/').startswith(video_fn_relative):\n",
    "            frame_results_this_video.append(im)\n",
    "\n",
    "    assert len(frame_results_this_video) > 0, \\\n",
    "        'No frame results matched {}'.format(video_fn_relative)\n",
    "    print('Found {} matching frame results'.format(len(frame_results_this_video)))\n",
    "\n",
    "    frame_results['images'] = frame_results_this_video\n",
    "\n",
    "    frames_json = os.path.join(rendered_detections_folder,video_fn_flat + '.json')\n",
    "\n",
    "    with open(frames_json,'w') as f:\n",
    "        json.dump(frame_results,f,indent=1)\n",
    "\n",
    "\n",
    "    ## Render detections on those frames\n",
    "\n",
    "    detected_frame_files = visualize_detector_output.visualize_detector_output(\n",
    "        detector_output_path=frames_json,\n",
    "        out_dir=rendered_detections_folder,\n",
    "        images_dir=frame_folder_base,\n",
    "        confidence_threshold=confidence_threshold,\n",
    "        preserve_path_structure=True,\n",
    "        output_image_width=-1)\n",
    "\n",
    "\n",
    "    ## Render the output video\n",
    "\n",
    "    codec_spec = 'h264'\n",
    "    # codec_spec = 'mp4v'\n",
    "    frames_to_video(detected_frame_files, output_fs, output_video, codec_spec=codec_spec)\n",
    "\n",
    "    # from megadetector.utils.path_utils import open_file; open_file(output_video)\n",
    "\n",
    "\n",
    "    #%% Test a possibly-broken video\n",
    "\n",
    "    fn = '/datadrive/tmp/video.AVI'\n",
    "\n",
    "    fs = video_utils.get_video_fs(fn)\n",
    "    print(fs)\n",
    "\n",
    "    tmpfolder = '/home/user/tmp/frametmp'\n",
    "    os.makedirs(tmpfolder,exist_ok=True)\n",
    "\n",
    "    video_utils.video_to_frames(fn, tmpfolder, verbose=True, every_n_frames=10)\n",
    "\n",
    "\n",
    "    #%% List videos in a folder\n",
    "\n",
    "    input_folder = '/datadrive/tmp/organization/data'\n",
    "    video_filenames = video_utils.find_videos(input_folder,recursive=True)\n",
    "\n",
    "\n",
    "    #%% Estimate the extracted size of a folder by sampling a few videos\n",
    "\n",
    "    n_videos_to_sample = 5\n",
    "\n",
    "    video_filenames = video_utils.find_videos(input_folder,recursive=True)\n",
    "    import random\n",
    "    random.seed(0)\n",
    "    sampled_videos = random.sample(video_filenames,n_videos_to_sample)\n",
    "    assert len(sampled_videos) == n_videos_to_sample\n",
    "\n",
    "    size_test_frame_folder = os.path.join(frame_folder_base,'size-test')\n",
    "    if quality is not None:\n",
    "        size_test_frame_folder += '_' + str(quality)\n",
    "    os.makedirs(size_test_frame_folder,exist_ok=True)\n",
    "\n",
    "    total_input_size = 0\n",
    "    total_output_size = 0\n",
    "\n",
    "    # i_video = 0; video_fn = sampled_videos[i_video]\n",
    "    for i_video,video_fn in enumerate(sampled_videos):\n",
    "\n",
    "        print('Processing video {}'.format(video_fn))\n",
    "        frame_output_folder_this_video = os.path.join(size_test_frame_folder,\n",
    "                                                      'video_{}'.format(str(i_video).zfill(4)))\n",
    "        os.makedirs(frame_output_folder_this_video,exist_ok=True)\n",
    "        video_utils.video_to_frames(video_fn,\n",
    "                                    frame_output_folder_this_video,\n",
    "                                    verbose=True,\n",
    "                                    every_n_frames=every_n_frames,\n",
    "                                    quality=quality,\n",
    "                                    max_width=max_width)\n",
    "\n",
    "        from megadetector.utils.path_utils import _get_file_size,get_file_sizes\n",
    "        video_size =_get_file_size(video_fn)[1]\n",
    "        assert video_size > 0\n",
    "        total_input_size += video_size\n",
    "\n",
    "        frame_size = get_file_sizes(frame_output_folder_this_video)\n",
    "        frame_size = sum(frame_size.values())\n",
    "        assert frame_size > 0\n",
    "        total_output_size += frame_size\n",
    "\n",
    "    import shutil # noqa\n",
    "    # shutil.rmtree(size_test_frame_folder)\n",
    "    import humanfriendly\n",
    "    print('')\n",
    "    print('Video size: {}'.format(humanfriendly.format_size(total_input_size)))\n",
    "    print('Frame size: {}'.format(humanfriendly.format_size(total_output_size)))\n",
    "    print('Ratio: {}'.format(total_output_size/total_input_size))\n",
    "\n",
    "\n",
    "\n"
   ]
  },
  {
   "cell_type": "code",
   "execution_count": null,
   "id": "b682dcd6-760d-4651-ac96-722d3d28d85d",
   "metadata": {},
   "outputs": [],
   "source": []
  }
 ],
 "metadata": {
  "kernelspec": {
   "display_name": "Python 3 (ipykernel)",
   "language": "python",
   "name": "python3"
  },
  "language_info": {
   "codemirror_mode": {
    "name": "ipython",
    "version": 3
   },
   "file_extension": ".py",
   "mimetype": "text/x-python",
   "name": "python",
   "nbconvert_exporter": "python",
   "pygments_lexer": "ipython3",
   "version": "3.11.13"
  }
 },
 "nbformat": 4,
 "nbformat_minor": 5
}
