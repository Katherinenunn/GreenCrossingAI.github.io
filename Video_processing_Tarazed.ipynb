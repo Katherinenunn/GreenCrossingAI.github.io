{
 "cells": [
  {
   "cell_type": "markdown",
   "id": "24f7d466-eaf0-48d4-85d7-32d2d9126af1",
   "metadata": {},
   "source": [
    "# This notebook is to take apart video feed and turn each frame into an image that then can be run in MegaDetector."
   ]
  },
  {
   "cell_type": "code",
   "execution_count": null,
   "id": "13df310c-1d96-4ca9-afd3-fa431bd36d92",
   "metadata": {},
   "outputs": [],
   "source": [
    "!pip install opencv-python-headless \n",
    "\n",
    "# Keep this just incase an issue happens.\n"
   ]
  },
  {
   "cell_type": "code",
   "execution_count": null,
   "id": "edc5ba85-5b34-4b53-aac7-79628167448a",
   "metadata": {},
   "outputs": [],
   "source": [
    "import os\n",
    "import cv2\n",
    "import json\n",
    "from megadetector.utils import path_utils\n",
    "from megadetector.visualization import visualization_utils as vis_utils\n",
    "\n",
    "# Add the directory containing video_utils.py to the system path\n",
    "import sys\n",
    "sys.path.append(\"C:/Users/Public/Documents/MegaDetector_App/MegaDetector/megadetector/detection\")\n",
    "\n",
    "from video_utils import video_folder_to_frames, frames_to_video, get_video_fs, frame_results_to_video_results\n",
    "\n",
    "# Configure paths\n",
    "# input_folder = r\"C:/Users/Public/Documents/Data/video_data/\"\n",
    "# output_folder_base = r\"C:/Users/Public/Documents/Data/video_data/frames/\"\n",
    "# detected_frame_folder_base = r\"C:/Users/Public/Documents/Data/video_data_detected/\"\n",
    "# rendered_videos_folder_base = r\"C:/Users/Public/Documents/Data/video_data_rendered/\"\n",
    "# json_path = r\"C:/Users/Public/Documents/jsons/tests.json\"\n",
    "\n",
    "input_folder = r\"C:/Users/Public/Videos/videos_for_MD/ringtail\"\n",
    "output_folder_base = r\"C:/Users/Public/Videos/videos_for_MD/ringtail/frames/\" # change name to frame folder\n",
    "detected_frame_folder_base = r\"C:/Users/Public/Videos/videos_for_MD/video_data_detected_ringtail/detections\" # detections folder change name\n",
    "rendered_videos_folder_base = r\"C:/Users/Public/Videos/videos_for_MD/ringtail/video_data_rendered\" # rename \n",
    "json_path = r\"C:/Users/Public/Documents/jsons/videos_for_MD/RR_ringtail.json\"\n",
    "\n",
    "# Ensure output directories exist\n",
    "os.makedirs(detected_frame_folder_base, exist_ok=True)\n",
    "os.makedirs(rendered_videos_folder_base, exist_ok=True)\n",
    "\n"
   ]
  },
  {
   "cell_type": "code",
   "execution_count": null,
   "id": "b5bd317a-1a39-4b7b-b03f-4334896de096",
   "metadata": {},
   "outputs": [],
   "source": [
    "# Split videos into frames\n",
    "frame_filenames_by_video, fs_by_video, video_filenames = video_folder_to_frames(\n",
    "    input_folder, output_folder_base, recursive=True, n_threads=4, verbose=True\n",
    ")\n"
   ]
  },
  {
   "cell_type": "code",
   "execution_count": null,
   "id": "eabf532f-8816-4013-8da0-eb9ccf4f5250",
   "metadata": {},
   "outputs": [],
   "source": [
    "# Runs MegaDetector on the frames\n",
    "!python \"C:/Users/Public/Documents/MegaDetector_App/MegaDetector/megadetector/detection/run_detector_batch.py\" \\\n",
    "    MDV5A \"{output_folder_base}\" \"{json_path}\" --output_relative_filenames --recursive --checkpoint_frequency 1000 --quiet\n"
   ]
  },
  {
   "cell_type": "code",
   "execution_count": null,
   "id": "d0100d16-d90b-4798-bc01-293c0cd7deb8",
   "metadata": {
    "scrolled": true
   },
   "outputs": [],
   "source": [
    "# Post-process results\n",
    "!python \"C:/Users/Public/Documents/MegaDetector_App/MegaDetector/megadetector/postprocessing/postprocess_batch_results.py\" \\\n",
    "    \"{json_path}\" \"{detected_frame_folder_base}\" --image_base_dir \"{output_folder_base}\" --num_images_to_sample -1\n"
   ]
  },
  {
   "cell_type": "code",
   "execution_count": null,
   "id": "5768b17b-bab5-433f-9e49-cd1283f4c00e",
   "metadata": {},
   "outputs": [],
   "source": [
    "# Verify paths and files\n",
    "print(os.path.isfile(json_path))  # Should print True if the file exists\n",
    "print(os.path.isdir(output_folder_base))  # Should print True if the directory exists\n",
    "print(os.path.isdir(detected_frame_folder_base))  # Should print True if the directory exists\n"
   ]
  },
  {
   "cell_type": "code",
   "execution_count": null,
   "id": "a2732087-a294-45bd-ba0d-5f7356ea669f",
   "metadata": {
    "scrolled": true
   },
   "outputs": [],
   "source": [
    "# detected_frames_folder = r\"C:/Users/Public/Documents/Data/video_data_detected/detections_animal\"\n",
    "# output_video_filename = r\"C:/Users/Public/Documents/Data/video_data_rendered/combined_video.avi\" # derp\n",
    "\n",
    "detected_frames_folder = r\"C:/Users/Public/Videos/videos_for_MD/video_data_detected_ringtail/detections\"\n",
    "output_video_filename = r\"C:/Users/Public/Videos/RR_ringtail.AVI\" # make sure to have .mp4 or .avi or it will not work\n",
    "\n",
    "# Ensure output directory exists\n",
    "os.makedirs(os.path.dirname(output_video_filename), exist_ok=True)\n",
    "\n",
    "\n",
    "# Collect all frame files from the detected frames folder\n",
    "frame_files = []\n",
    "for root, dirs, files in os.walk(detected_frames_folder):\n",
    "    for file in sorted(files):\n",
    "        if file.endswith('.jpg') or file.endswith('.png'):\n",
    "            frame_files.append(os.path.join(root, file))\n",
    "\n",
    "# Get frame rate from one of the original videos\n",
    "# Assuming all original videos have the same frame rate; you can modify this as needed\n",
    "# sample_video_file = 'C:/Users/Public/Documents/Data/video_data/2835528-hd_1920_1080_25fps.mp4'\n",
    "# this is saving the frame rate to the video you want to generate with the same frame rate as this sample video\n",
    "sample_video_file = \"C:/Users/Public/WLF_Cam_Data/videos_for_MD/ringtail/IMG_0528.AVI\" # file path of the orginal video, must have file extension\n",
    "Fs = get_video_fs(sample_video_file)\n",
    "\n",
    "# Combine all frames into a single video\n",
    "if frame_files:\n",
    "    # Determine the width and height from the first image\n",
    "    frame = cv2.imread(frame_files[0])\n",
    "    height, width, channels = frame.shape\n",
    "\n",
    "    # Define the codec and create VideoWriter object\n",
    "    fourcc = cv2.VideoWriter_fourcc(*'mp4v')  # Codec for .mp4 files\n",
    "    output_video_filename = output_video_filename.replace('.avi', '.mp4')\n",
    "    out = cv2.VideoWriter(output_video_filename, fourcc, Fs, (width, height))\n",
    "\n",
    "    for image in frame_files:\n",
    "        frame = cv2.imread(image)\n",
    "        out.write(frame)\n",
    "\n",
    "    out.release()\n",
    "\n",
    "    print(f\"Combined video created: {output_video_filename}\")\n",
    "else:\n",
    "    print(\"No frames found to combine into a video.\")\n",
    "\n",
    "\n",
    "\n"
   ]
  }
 ],
 "metadata": {
  "kernelspec": {
   "display_name": "Python [conda env:base] *",
   "language": "python",
   "name": "conda-base-py"
  },
  "language_info": {
   "codemirror_mode": {
    "name": "ipython",
    "version": 3
   },
   "file_extension": ".py",
   "mimetype": "text/x-python",
   "name": "python",
   "nbconvert_exporter": "python",
   "pygments_lexer": "ipython3",
   "version": "3.12.7"
  }
 },
 "nbformat": 4,
 "nbformat_minor": 5
}
